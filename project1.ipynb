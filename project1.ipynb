{
  "nbformat": 4,
  "nbformat_minor": 0,
  "metadata": {
    "colab": {
      "name": "project1.ipynb",
      "version": "0.3.2",
      "provenance": [],
      "collapsed_sections": []
    },
    "kernelspec": {
      "name": "python3",
      "display_name": "Python 3"
    }
  },
  "cells": [
    {
      "cell_type": "markdown",
      "metadata": {
        "id": "view-in-github",
        "colab_type": "text"
      },
      "source": [
        "[View in Colaboratory](https://colab.research.google.com/github/dexlau/sample/blob/master/project1.ipynb)"
      ]
    },
    {
      "metadata": {
        "id": "hW0ZZhF2GJTF",
        "colab_type": "code",
        "colab": {}
      },
      "cell_type": "code",
      "source": [
        "import numpy as np\n",
        "\n",
        "# Create a single random walk sequence.\n",
        "def random_walk_sequence():\n",
        "  # States representing A - G.\n",
        "  x_t = [0., 0., 0., 1., 0., 0., 0.]\n",
        "  walk = [np.array(x_t)]\n",
        "  while True:\n",
        "    state = x_t.index(1.)\n",
        "    next_state = state+1 if np.random.randint(2) else state-1 \n",
        "    x_t[next_state] = 1\n",
        "    x_t[state] = 0\n",
        "    walk.append(np.array(x_t))\n",
        "    if next_state in [0,6]:\n",
        "      return walk\n",
        "\n",
        "# Create a set of random walk sequences.\n",
        "def random_walk_sequence_set(sets):\n",
        "  return [random_walk_sequence() for _ in range(sets)]\n",
        "\n",
        "# Construct training data.\n",
        "def random_walk_training_set(total_training_sets, sequences_per_set):\n",
        "  return training_set = [random_walk_sequence_set(sequences_per_set) for _ in range (total_training_sets)]\n",
        "\n",
        "# Produce prediction.\n",
        "def predict(W, X):\n",
        "  return np.dot(np.transpose(W), X)"
      ],
      "execution_count": 0,
      "outputs": []
    },
    {
      "metadata": {
        "id": "6ujInX-mZ9cY",
        "colab_type": "code",
        "colab": {
          "base_uri": "https://localhost:8080/",
          "height": 35
        },
        "outputId": "a636cc4c-128e-4d6b-b525-c867b2b8d42f"
      },
      "cell_type": "code",
      "source": [
        "print('hello')"
      ],
      "execution_count": 1,
      "outputs": [
        {
          "output_type": "stream",
          "text": [
            "hello\n"
          ],
          "name": "stdout"
        }
      ]
    },
    {
      "metadata": {
        "id": "tEyMVJxBJuQv",
        "colab_type": "code",
        "colab": {
          "base_uri": "https://localhost:8080/",
          "height": 35
        },
        "outputId": "7048fd20-2a65-40d6-f645-5b157119b01d"
      },
      "cell_type": "code",
      "source": [
        "import numpy as np\n",
        "import random\n",
        "import matplotlib.pyplot as plt\n",
        "\n",
        "# ============= Generate data training set==============================================\n",
        "# Probability to move left or right\n",
        "prob = 0.5\n",
        "# Position A,B,C,D,E,F,G is defined as number 0,1,2,3,4,5,6,7\n",
        "start = 3  # Start at position D\n",
        "\n",
        "# Generate training set\n",
        "TrainingSet = np.zeros((1000, 100),int)\n",
        "for i in range(0, 1000):\n",
        "    X = [start]\n",
        "    for m in range(1, 100):\n",
        "        rr = random.random()\n",
        "        left = rr < prob and X[-1] > 0  # position A or number 0 is left boundary\n",
        "        right = rr > prob and X[-1] < 7  # position G or number 7 is right boundary\n",
        "        X.append(X[-1] - left + right)\n",
        "        if X[-1] == 0 or X[-1] == 7:\n",
        "            break       # end game if walk in to position A or G,\n",
        "                        # meaning turn all number into 0 after the first 0 or 7\n",
        "    TrainingSet[i, 0: m+1] = np.array(X)\n",
        "# check random TrainingSet\n",
        "#plt.plot(TrainingSet[random.randint(1, 100), :])\n",
        "#plt.show()\n",
        "# check all TrainingSet. make sure all 1000 games will end before 100 steps\n",
        "#for i in range(0, 1000):\n",
        "#    plt.plot(TrainingSet[i, :])\n",
        "#    plt.show()\n",
        "\n",
        "\n",
        "# ============= Reproduce Figure 3 ==============================================\n",
        "# Define observation vector\n",
        "X = np.identity(5, int)\n",
        "XA = np.zeros((1, 5), int).T\n",
        "XG = np.ones((1, 5), int).T\n",
        "X = np.hstack((XA, X, XG))  # 5X7 matrix\n",
        "\n",
        "# Set up initial value\n",
        "ideal_P = np.array([[1.0/6, 1.0/3, 1.0/3, 2.0/3, 5.0/6]])\n",
        "Lambda = np.array([0, 0.1, 0.3, 0.5, 0.7, 0.9, 1])\n",
        "RMSE = np.array([0., 0., 0., 0., 0., 0., 0.])\n",
        "alpha = 0.1\n",
        "w = np.array([.5, .5, .5, .5, .5]) # start with 0.5 weights\n",
        "for lam in range(0, 7):\n",
        "    for m in range(0, 100):\n",
        "        for n in range(0, 99):\n",
        "            x = np.array([X[:, TrainingSet[m, n] - 1]]).T\n",
        "            x1 = np.array([X[:, TrainingSet[m, n + 1] - 1]]).T\n",
        "            delta_w = alpha * (np.dot(Lambda[lam]*w.T, x1) - np.dot(w.T, x))*x\n",
        "        w = w + delta_w\n",
        "    RMSE[lam] = np.sqrt(np.mean((ideal_P-w)**2))\n",
        "plt.plot(Lambda, RMSE)\n",
        "plt.xlabel(\"$lambda$\")\n",
        "plt.ylabel('ERROR')\n",
        "plt.show()\n"
      ],
      "execution_count": 127,
      "outputs": [
        {
          "output_type": "execute_result",
          "data": {
            "text/plain": [
              "1.25"
            ]
          },
          "metadata": {
            "tags": []
          },
          "execution_count": 127
        }
      ]
    }
  ]
}